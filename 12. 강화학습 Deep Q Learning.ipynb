{
 "cells": [
  {
   "cell_type": "markdown",
   "metadata": {},
   "source": [
    "# 강화학습 Deep Q Learning 튜토리얼 "
   ]
  },
  {
   "cell_type": "markdown",
   "metadata": {},
   "source": [
    "이 튜토리얼에선 PyTorch를 이용해서 OpenAI Gym의 CartPole-v0 태스크에서 DQN 에이전트를 학습할 것이다.\n"
   ]
  },
  {
   "cell_type": "markdown",
   "metadata": {},
   "source": [
    "\n",
    "## 태스크 \n",
    "에이전트는 연결된  막대가 똑바로 서 있도록 카트를 왼쪽이나 오른쪽으로 움직이는 동작 중 하나를 선택해야한다. 다양한 알고리즘 시각화 기능을 갖추 공식 순위표를 Gym 웹사이트에서 찾을수 있다. \n",
    "\n",
    "에이전트가 현대 환경상태를 관찰하고 행동을 선택하면 환경이 새로운 상태고 바뀌고 작업의 결과를 나타내는 보상도 반환한다. 이 태스크에서 매 타임스텝이 증가하면서 보상이 +1이 되고 만약 막대가 너무 멀리 떨어지거나 카트가 중심에서 2.4유닛 이상 멀어지면 환경이 중단된다. 이는 더 좋은 시나리오가 더 오랫동안 더 많은 보상을 축적하는것을 의미한다.\n",
    "\n",
    "카트폴 태스크는 에이전트에 대한 입력이 환경상태(위치, 속도 등)을 나타내는 4개의 실제값이 되도록 설계되었다. 그러나 신경망을 순수하게 그 장면을 보고 태스크를 해결할 수 있다. 따라서 카트 중심의 화면 패치를 입력으로 사용한다. 이로 인해 결과는 공식 순위표의 결과와 직접적으로 비교할 수 없다. 이 튜토리얼에선 모든 프레임을 렌더링 해야 하므로 학습속도가 느리다."
   ]
  },
  {
   "cell_type": "markdown",
   "metadata": {},
   "source": [
    "## 패키지"
   ]
  },
  {
   "cell_type": "code",
   "execution_count": 1,
   "metadata": {},
   "outputs": [
    {
     "name": "stdout",
     "output_type": "stream",
     "text": [
      "Requirement already satisfied: gym in c:\\users\\sanghyeon cho\\anaconda\\lib\\site-packages (0.21.0)\n",
      "Requirement already satisfied: cloudpickle>=1.2.0 in c:\\users\\sanghyeon cho\\anaconda\\lib\\site-packages (from gym) (1.6.0)\n",
      "Requirement already satisfied: numpy>=1.18.0 in c:\\users\\sanghyeon cho\\anaconda\\lib\\site-packages (from gym) (1.19.2)\n"
     ]
    },
    {
     "name": "stderr",
     "output_type": "stream",
     "text": [
      "WARNING: Ignoring invalid distribution -pype1 (c:\\users\\sanghyeon cho\\anaconda\\lib\\site-packages)\n",
      "WARNING: Ignoring invalid distribution -pype1 (c:\\users\\sanghyeon cho\\anaconda\\lib\\site-packages)\n",
      "WARNING: Ignoring invalid distribution -pype1 (c:\\users\\sanghyeon cho\\anaconda\\lib\\site-packages)\n",
      "WARNING: Ignoring invalid distribution -pype1 (c:\\users\\sanghyeon cho\\anaconda\\lib\\site-packages)\n",
      "WARNING: Ignoring invalid distribution -pype1 (c:\\users\\sanghyeon cho\\anaconda\\lib\\site-packages)\n",
      "WARNING: Ignoring invalid distribution -pype1 (c:\\users\\sanghyeon cho\\anaconda\\lib\\site-packages)\n",
      "WARNING: You are using pip version 21.1.1; however, version 22.0.3 is available.\n",
      "You should consider upgrading via the 'c:\\users\\sanghyeon cho\\anaconda\\python.exe -m pip install --upgrade pip' command.\n"
     ]
    }
   ],
   "source": [
    "! pip install gym"
   ]
  },
  {
   "cell_type": "code",
   "execution_count": 2,
   "metadata": {},
   "outputs": [],
   "source": [
    "import gym\n",
    "import math\n",
    "import random\n",
    "import numpy as np\n",
    "import matplotlib\n",
    "import matplotlib.pyplot as plt\n",
    "from collections import namedtuple, deque\n",
    "from itertools import count\n",
    "from PIL import Image \n",
    "\n",
    "import torch\n",
    "import torch.nn as nn\n",
    "import torch.optim as optim\n",
    "import torch.nn.functional as F\n",
    "import torchvision.transforms as T\n",
    "\n",
    "env = gym.make('CartPole-v0').unwrapped\n",
    "\n",
    "# matplotlib 설정 \n",
    "is_ipython = 'inline' in matplotlib.get_backend()\n",
    "if is_ipython:\n",
    "    from IPython import display\n",
    "    \n",
    "plt.ion()\n",
    "\n",
    "# GPU를 사용할 경우\n",
    "device = torch.device('cuda' if torch.cuda.is_available() else \"cpu\")"
   ]
  },
  {
   "cell_type": "code",
   "execution_count": 3,
   "metadata": {},
   "outputs": [
    {
     "name": "stdout",
     "output_type": "stream",
     "text": [
      "Requirement already satisfied: gym[all] in c:\\users\\sanghyeon cho\\anaconda\\lib\\site-packages (0.21.0)\n",
      "Requirement already satisfied: numpy>=1.18.0 in c:\\users\\sanghyeon cho\\anaconda\\lib\\site-packages (from gym[all]) (1.19.2)\n",
      "Requirement already satisfied: cloudpickle>=1.2.0 in c:\\users\\sanghyeon cho\\anaconda\\lib\\site-packages (from gym[all]) (1.6.0)\n",
      "Requirement already satisfied: scipy>=1.4.1 in c:\\users\\sanghyeon cho\\anaconda\\lib\\site-packages (from gym[all]) (1.5.2)\n",
      "Collecting lz4>=3.1.0\n",
      "  Using cached lz4-4.0.0-cp38-cp38-win_amd64.whl (96 kB)\n",
      "Requirement already satisfied: pyglet>=1.4.0 in c:\\users\\sanghyeon cho\\anaconda\\lib\\site-packages (from gym[all]) (1.5.21)\n",
      "Collecting box2d-py==2.3.5\n",
      "  Using cached box2d-py-2.3.5.tar.gz (374 kB)\n",
      "Collecting mujoco-py<2.0,>=1.50\n",
      "  Using cached mujoco-py-1.50.1.68.tar.gz (120 kB)"
     ]
    },
    {
     "name": "stderr",
     "output_type": "stream",
     "text": [
      "WARNING: Ignoring invalid distribution -pype1 (c:\\users\\sanghyeon cho\\anaconda\\lib\\site-packages)\n",
      "WARNING: Ignoring invalid distribution -pype1 (c:\\users\\sanghyeon cho\\anaconda\\lib\\site-packages)\n",
      "  ERROR: Command errored out with exit status 1:\n",
      "   command: 'c:\\users\\sanghyeon cho\\anaconda\\python.exe' -u -c 'import io, os, sys, setuptools, tokenize; sys.argv[0] = '\"'\"'C:\\\\Users\\\\Sanghyeon Cho\\\\AppData\\\\Local\\\\Temp\\\\pip-install-l621qqwl\\\\box2d-py_bc2e133c0fa8443b801b564accd369bc\\\\setup.py'\"'\"'; __file__='\"'\"'C:\\\\Users\\\\Sanghyeon Cho\\\\AppData\\\\Local\\\\Temp\\\\pip-install-l621qqwl\\\\box2d-py_bc2e133c0fa8443b801b564accd369bc\\\\setup.py'\"'\"';f = getattr(tokenize, '\"'\"'open'\"'\"', open)(__file__) if os.path.exists(__file__) else io.StringIO('\"'\"'from setuptools import setup; setup()'\"'\"');code = f.read().replace('\"'\"'\\r\\n'\"'\"', '\"'\"'\\n'\"'\"');f.close();exec(compile(code, __file__, '\"'\"'exec'\"'\"'))' bdist_wheel -d 'C:\\Users\\Sanghyeon Cho\\AppData\\Local\\Temp\\pip-wheel-fmhcarlr'\n",
      "       cwd: C:\\Users\\Sanghyeon Cho\\AppData\\Local\\Temp\\pip-install-l621qqwl\\box2d-py_bc2e133c0fa8443b801b564accd369bc\\\n",
      "  Complete output (16 lines):\n",
      "  Using setuptools (version 50.3.1.post20201107).\n",
      "  running bdist_wheel\n",
      "  running build\n",
      "  running build_py\n",
      "  creating build\n",
      "  creating build\\lib.win-amd64-3.8\n",
      "  creating build\\lib.win-amd64-3.8\\Box2D"
     ]
    },
    {
     "name": "stdout",
     "output_type": "stream",
     "text": [
      "\n",
      "Requirement already satisfied: opencv-python>=3. in c:\\users\\sanghyeon cho\\anaconda\\lib\\site-packages (from gym[all]) (4.5.5.62)\n",
      "Collecting ale-py~=0.7.1\n",
      "  Using cached ale_py-0.7.4-cp38-cp38-win_amd64.whl (904 kB)\n",
      "Requirement already satisfied: importlib-metadata>=4.10.0 in c:\\users\\sanghyeon cho\\anaconda\\lib\\site-packages (from ale-py~=0.7.1->gym[all]) (4.11.1)\n",
      "Requirement already satisfied: importlib-resources in c:\\users\\sanghyeon cho\\anaconda\\lib\\site-packages (from ale-py~=0.7.1->gym[all]) (5.4.0)\n",
      "Requirement already satisfied: zipp>=0.5 in c:\\users\\sanghyeon cho\\anaconda\\lib\\site-packages (from importlib-metadata>=4.10.0->ale-py~=0.7.1->gym[all]) (3.4.0)\n",
      "Requirement already satisfied: glfw>=1.4.0 in c:\\users\\sanghyeon cho\\anaconda\\lib\\site-packages (from mujoco-py<2.0,>=1.50->gym[all]) (2.5.0)\n",
      "Requirement already satisfied: Cython>=0.27.2 in c:\\users\\sanghyeon cho\\anaconda\\lib\\site-packages (from mujoco-py<2.0,>=1.50->gym[all]) (0.29.21)\n",
      "Requirement already satisfied: imageio>=2.1.2 in c:\\users\\sanghyeon cho\\anaconda\\lib\\site-packages (from mujoco-py<2.0,>=1.50->gym[all]) (2.9.0)\n",
      "Requirement already satisfied: cffi>=1.10 in c:\\users\\sanghyeon cho\\anaconda\\lib\\site-packages (from mujoco-py<2.0,>=1.50->gym[all]) (1.14.3)\n",
      "Requirement already satisfied: lockfile>=0.12.2 in c:\\users\\sanghyeon cho\\anaconda\\lib\\site-packages (from mujoco-py<2.0,>=1.50->gym[all]) (0.12.2)\n",
      "Requirement already satisfied: pycparser in c:\\users\\sanghyeon cho\\anaconda\\lib\\site-packages (from cffi>=1.10->mujoco-py<2.0,>=1.50->gym[all]) (2.20)\n",
      "Requirement already satisfied: pillow in c:\\users\\sanghyeon cho\\anaconda\\lib\\site-packages (from imageio>=2.1.2->mujoco-py<2.0,>=1.50->gym[all]) (8.0.1)\n",
      "Building wheels for collected packages: box2d-py, mujoco-py\n",
      "  Building wheel for box2d-py (setup.py): started\n",
      "  Building wheel for box2d-py (setup.py): finished with status 'error'\n",
      "  Running setup.py clean for box2d-py\n",
      "  Building wheel for mujoco-py (setup.py): started\n",
      "  Building wheel for mujoco-py (setup.py): finished with status 'error'\n",
      "  Running setup.py clean for mujoco-py\n",
      "Failed to build box2d-py mujoco-py\n",
      "Installing collected packages: mujoco-py, lz4, box2d-py, ale-py\n",
      "    Running setup.py install for mujoco-py: started\n",
      "    Running setup.py install for mujoco-py: finished with status 'error'\n"
     ]
    },
    {
     "name": "stderr",
     "output_type": "stream",
     "text": [
      "\n",
      "  copying library\\Box2D\\Box2D.py -> build\\lib.win-amd64-3.8\\Box2D\n",
      "  copying library\\Box2D\\__init__.py -> build\\lib.win-amd64-3.8\\Box2D\n",
      "  creating build\\lib.win-amd64-3.8\\Box2D\\b2\n",
      "  copying library\\Box2D\\b2\\__init__.py -> build\\lib.win-amd64-3.8\\Box2D\\b2\n",
      "  running build_ext\n",
      "  building 'Box2D._Box2D' extension\n",
      "  swigging Box2D\\Box2D.i to Box2D\\Box2D_wrap.cpp\n",
      "  swig.exe -python -c++ -IBox2D -small -O -includeall -ignoremissing -w201 -globals b2Globals -outdir library\\Box2D -keyword -w511 -D_SWIG_KWARGS -o Box2D\\Box2D_wrap.cpp Box2D\\Box2D.i\n",
      "  error: command 'swig.exe' failed: No such file or directory\n",
      "  ----------------------------------------\n",
      "  ERROR: Failed building wheel for box2d-py\n",
      "  ERROR: Command errored out with exit status 1:\n",
      "   command: 'c:\\users\\sanghyeon cho\\anaconda\\python.exe' -u -c 'import io, os, sys, setuptools, tokenize; sys.argv[0] = '\"'\"'C:\\\\Users\\\\Sanghyeon Cho\\\\AppData\\\\Local\\\\Temp\\\\pip-install-l621qqwl\\\\mujoco-py_f467839fad1245039e04d9f3c978bc37\\\\setup.py'\"'\"'; __file__='\"'\"'C:\\\\Users\\\\Sanghyeon Cho\\\\AppData\\\\Local\\\\Temp\\\\pip-install-l621qqwl\\\\mujoco-py_f467839fad1245039e04d9f3c978bc37\\\\setup.py'\"'\"';f = getattr(tokenize, '\"'\"'open'\"'\"', open)(__file__) if os.path.exists(__file__) else io.StringIO('\"'\"'from setuptools import setup; setup()'\"'\"');code = f.read().replace('\"'\"'\\r\\n'\"'\"', '\"'\"'\\n'\"'\"');f.close();exec(compile(code, __file__, '\"'\"'exec'\"'\"'))' bdist_wheel -d 'C:\\Users\\Sanghyeon Cho\\AppData\\Local\\Temp\\pip-wheel-g0dr8o92'\n",
      "       cwd: C:\\Users\\Sanghyeon Cho\\AppData\\Local\\Temp\\pip-install-l621qqwl\\mujoco-py_f467839fad1245039e04d9f3c978bc37\\\n",
      "  Complete output (54 lines):\n",
      "  running bdist_wheel\n",
      "  running build\n",
      "  \n",
      "  You appear to be missing MuJoCo.  We expected to find the file here: C:\\Users\\Sanghyeon Cho\\.mujoco\\mjpro150\n",
      "  \n",
      "  This package only provides python bindings, the library must be installed separately.\n",
      "  \n",
      "  Please follow the instructions on the README to install MuJoCo\n",
      "  \n",
      "      https://github.com/openai/mujoco-py#install-mujoco\n",
      "  \n",
      "  Which can be downloaded from the website\n",
      "  \n",
      "      https://www.roboti.us/index.html\n",
      "  \n",
      "  Traceback (most recent call last):\n",
      "    File \"<string>\", line 1, in <module>\n",
      "    File \"C:\\Users\\Sanghyeon Cho\\AppData\\Local\\Temp\\pip-install-l621qqwl\\mujoco-py_f467839fad1245039e04d9f3c978bc37\\setup.py\", line 32, in <module>\n",
      "      setup(\n",
      "    File \"c:\\users\\sanghyeon cho\\anaconda\\lib\\site-packages\\setuptools\\__init__.py\", line 153, in setup\n",
      "      return distutils.core.setup(**attrs)\n",
      "    File \"c:\\users\\sanghyeon cho\\anaconda\\lib\\distutils\\core.py\", line 148, in setup\n",
      "      dist.run_commands()\n",
      "    File \"c:\\users\\sanghyeon cho\\anaconda\\lib\\distutils\\dist.py\", line 966, in run_commands\n",
      "      self.run_command(cmd)\n",
      "    File \"c:\\users\\sanghyeon cho\\anaconda\\lib\\distutils\\dist.py\", line 985, in run_command\n",
      "      cmd_obj.run()\n",
      "    File \"c:\\users\\sanghyeon cho\\anaconda\\lib\\site-packages\\wheel\\bdist_wheel.py\", line 290, in run\n",
      "      self.run_command('build')\n",
      "    File \"c:\\users\\sanghyeon cho\\anaconda\\lib\\distutils\\cmd.py\", line 313, in run_command\n",
      "      self.distribution.run_command(command)\n",
      "    File \"c:\\users\\sanghyeon cho\\anaconda\\lib\\distutils\\dist.py\", line 985, in run_command\n",
      "      cmd_obj.run()\n",
      "    File \"C:\\Users\\Sanghyeon Cho\\AppData\\Local\\Temp\\pip-install-l621qqwl\\mujoco-py_f467839fad1245039e04d9f3c978bc37\\setup.py\", line 28, in run\n",
      "      import mujoco_py  # noqa: force build\n",
      "    File \"C:\\Users\\Sanghyeon Cho\\AppData\\Local\\Temp\\pip-install-l621qqwl\\mujoco-py_f467839fad1245039e04d9f3c978bc37\\mujoco_py\\__init__.py\", line 3, in <module>\n",
      "      from mujoco_py.builder import cymj, ignore_mujoco_warnings, functions, MujocoException\n",
      "    File \"C:\\Users\\Sanghyeon Cho\\AppData\\Local\\Temp\\pip-install-l621qqwl\\mujoco-py_f467839fad1245039e04d9f3c978bc37\\mujoco_py\\builder.py\", line 502, in <module>\n",
      "      mjpro_path, key_path = discover_mujoco()\n",
      "    File \"C:\\Users\\Sanghyeon Cho\\AppData\\Local\\Temp\\pip-install-l621qqwl\\mujoco-py_f467839fad1245039e04d9f3c978bc37\\mujoco_py\\utils.py\", line 93, in discover_mujoco\n",
      "      raise Exception(message)\n",
      "  Exception:\n",
      "  You appear to be missing MuJoCo.  We expected to find the file here: C:\\Users\\Sanghyeon Cho\\.mujoco\\mjpro150\n",
      "  \n",
      "  This package only provides python bindings, the library must be installed separately.\n",
      "  \n",
      "  Please follow the instructions on the README to install MuJoCo\n",
      "  \n",
      "      https://github.com/openai/mujoco-py#install-mujoco\n",
      "  \n",
      "  Which can be downloaded from the website\n",
      "  \n",
      "      https://www.roboti.us/index.html\n",
      "  \n",
      "  ----------------------------------------\n",
      "  ERROR: Failed building wheel for mujoco-py\n",
      "WARNING: Ignoring invalid distribution -pype1 (c:\\users\\sanghyeon cho\\anaconda\\lib\\site-packages)\n",
      "    ERROR: Command errored out with exit status 1:\n",
      "     command: 'c:\\users\\sanghyeon cho\\anaconda\\python.exe' -u -c 'import io, os, sys, setuptools, tokenize; sys.argv[0] = '\"'\"'C:\\\\Users\\\\Sanghyeon Cho\\\\AppData\\\\Local\\\\Temp\\\\pip-install-l621qqwl\\\\mujoco-py_f467839fad1245039e04d9f3c978bc37\\\\setup.py'\"'\"'; __file__='\"'\"'C:\\\\Users\\\\Sanghyeon Cho\\\\AppData\\\\Local\\\\Temp\\\\pip-install-l621qqwl\\\\mujoco-py_f467839fad1245039e04d9f3c978bc37\\\\setup.py'\"'\"';f = getattr(tokenize, '\"'\"'open'\"'\"', open)(__file__) if os.path.exists(__file__) else io.StringIO('\"'\"'from setuptools import setup; setup()'\"'\"');code = f.read().replace('\"'\"'\\r\\n'\"'\"', '\"'\"'\\n'\"'\"');f.close();exec(compile(code, __file__, '\"'\"'exec'\"'\"'))' install --record 'C:\\Users\\Sanghyeon Cho\\AppData\\Local\\Temp\\pip-record-5sw506gh\\install-record.txt' --single-version-externally-managed --compile --install-headers 'c:\\users\\sanghyeon cho\\anaconda\\Include\\mujoco-py'"
     ]
    }
   ],
   "source": [
    "!pip install gym[all]"
   ]
  },
  {
   "cell_type": "markdown",
   "metadata": {},
   "source": [
    "## 재현 메모리(Replay Memory)\n",
    "\n",
    "DQN 학습을 위해 경험 재현 메모리를 사용할 것이다. 에이전트가 관찰한 transition을 저장하고 추후에 이 데이터를 재사용할 수 있다. 무작위로 샘플링을 하게되면 배치를 구성하는 전환들이 상관관계를 가지지 않기 떄문에 DQN 학습절차를 안정시키고 향상 시킬수 있다. \n",
    "\n",
    "이를 위해 두가지 클래스가 필요하다. \n",
    "\n",
    "- Transition : 우리 환경에서 단일 전환을 나타내도록 명명된 튜플로 화면의 차이인 state로 (state, action) 쌍을 (next_state, reward ) 결과로 매핑\n",
    "- ReplayMemory : 최근 관찰된 전이를 보관 및 유지하는 제한된 크기의 순환 버퍼. 학습을 위한 random transition batch를 선택하기 위한 .sample() 메소드를 구현한다. "
   ]
  },
  {
   "cell_type": "code",
   "execution_count": 3,
   "metadata": {},
   "outputs": [],
   "source": [
    "Transition = namedtuple(\"Transition\", (\"state\", 'action', 'next_state', 'reward'))\n",
    "\n",
    "class ReplayMemory(object):\n",
    "    def __init__(self, capacity):\n",
    "        self.memory = deque([], maxlen=capacity)\n",
    "        \n",
    "    def push(self, *args):\n",
    "        \"\"\"transition 저장\"\"\"\n",
    "        self.memory.append(Transition(*args))\n",
    "    \n",
    "    def sample(self, batch_size):\n",
    "        return random.sample(self.memory, batch_size)\n",
    "    \n",
    "    def __len__(self):\n",
    "        return len(self.memory)"
   ]
  },
  {
   "attachments": {
    "0563aaf3-cc89-49dd-a4aa-533bc52be8bd.png": {
     "image/png": "[encoded data removed]"
    },
    "1ca54e97-f8a1-45ef-bbde-d458e3b4c28b.png": {
     "image/png": "[encoded data removed]"
    },
    "e9ed222e-a02c-427e-939f-66323cb3dddc.png": {
     "image/png": "[encoded data removed]"
    }
   },
   "cell_type": "markdown",
   "metadata": {},
   "source": [
    "## DQN 알고리즘 \n",
    "\n",
    "환경은 결정론적이므로 여기에 제시된 모든 방정식은 단순화를 위해 결정론적으로 공식화 된다. 강화학습 자료는 환경에서 확률론적 전환에 대한 기대갑도 포함된다.\n",
    "\n",
    "목표는 discounted cumulative reward를 극대화 하려는 policy를 학습하는것이다.\n",
    "\n",
    "Reward 수식 \n",
    "\n",
    "![image.png](attachment:0563aaf3-cc89-49dd-a4aa-533bc52be8bd.png)\n",
    "\n",
    "감마는 discount factor로 0과 1의 상수이고 합계가 수렴되도록 보장하는데 이는 에이전트에게 현재상태에서 먼 시점의 보상이 가까운 시점의 보상보다 덜 중요하게 만든다. \n",
    "\n",
    "Q-learning의 주요 아이디어는 만일 함수 Q* : State x Action -> R을 가지고 있다면 reward가 어떻게 될지 알려줄수 있고 만약 주어진 상태에서 행동을 한다면 보상을 최대화하는 policy를 구출할수 있다.\n",
    "하지만 Q에 도달하는 것이 쉽지않다. 하지만 신경망은 universal fuction approximator이기 때문에 간단하게 생성하고 Q* 를 닮도록 학습할 수 있다.\n",
    "\n",
    "학습 업데이트 규칙으로, 일부 policy를 위한 모든 Q 함수가 Bellman 방정식을 준수한다는 사실을 사용할 것이다.\n",
    "![image.png](attachment:1ca54e97-f8a1-45ef-bbde-d458e3b4c28b.png)\n",
    "\n",
    "등호를 두고 양쪽의 차이는 temporal difference error이다. \n",
    "![image.png](attachment:e9ed222e-a02c-427e-939f-66323cb3dddc.png)\n",
    "\n",
    "이 에러를 줄이기 위해 HUber loss를 사용할 것이다. HUber loss는 오류가 작으면 MSE와 같이 동작하고, 오류가 크면 MAE롸 같이 동작한다. 이는 Q의 추정에 noise가 많을떄 이상치에대해 더욱 강건하게 한다. Replay Memory에서 샘플링한 transition batch B에서 이것을 계산한다."
   ]
  },
  {
   "cell_type": "markdown",
   "metadata": {},
   "source": [
    "## Q-Network\n",
    "\n",
    "모델은 현재와 이전 스크린 패치의 차이를 취하는 CNN이다. 출력은 Q(s,left)와 Q(s,right)가 있다. s는 네트워크의 입력이다.\n",
    "결과적으로 네트워크는 현재입력에서 각 행동의 기대값을 예측하려고 한다. "
   ]
  },
  {
   "cell_type": "code",
   "execution_count": 4,
   "metadata": {},
   "outputs": [],
   "source": [
    "class DQN(nn.Module):\n",
    "    def __init__(self, h, w, outputs):\n",
    "        super(DQN, self).__init__()\n",
    "        self.conv1 = nn.Conv2d(3, 16, kernel_size=5, stride=2)\n",
    "        self.bn1 = nn.BatchNorm2d(16)\n",
    "        self.conv2 = nn.Conv2d(16, 32, kernel_size=5, stride=2)\n",
    "        self.bn2 = nn.BatchNorm2d(32)\n",
    "        self.conv3 = nn.Conv2d(32, 32, kernel_size=5, stride=2)\n",
    "        self.bn3 = nn.BatchNorm2d(32)\n",
    "        \n",
    "        # Linear의 입력의 연결 숫자는 conv2d 계층의 출력과 입력 이미지의 크기에 따라 결정되기 떄문에 따로 계산\n",
    "        def conv2d_size_out(size, kernel_size=5, stride=2):\n",
    "            return (size-(kernel_size-1)-1)// stride + 1\n",
    "        convw = conv2d_size_out( conv2d_size_out( conv2d_size_out(w)))\n",
    "        convh = conv2d_size_out( conv2d_size_out( conv2d_size_out(h)))\n",
    "        linear_input_size = convw * convh * 32\n",
    "        self.head = nn.Linear(linear_input_size, outputs)\n",
    "        \n",
    "        #최적화 중에 다음 행동을 결정하기 위해서 하나의 요소 또는 배치를 이용해 호출\n",
    "        def forward(self, x):\n",
    "            x = x.to(device)\n",
    "            x = F.relu(self.bn1(self.conv1(x)))\n",
    "            x = F.relu(self.bn2(self.conv2(x)))\n",
    "            x = F.relu(self.bn3(self.conv3(x)))\n",
    "            return self.head(x.view(x.size(0), -1))\n",
    "        \n",
    "        "
   ]
  },
  {
   "cell_type": "markdown",
   "metadata": {},
   "source": [
    "## 입력 추출 "
   ]
  },
  {
   "cell_type": "code",
   "execution_count": null,
   "metadata": {},
   "outputs": [
    {
     "name": "stderr",
     "output_type": "stream",
     "text": [
      "C:\\Users\\Sanghyeon Cho\\ANACONDA\\lib\\site-packages\\torchvision\\transforms\\transforms.py:287: UserWarning: Argument interpolation should be of type InterpolationMode instead of int. Please, use InterpolationMode enum.\n",
      "  warnings.warn(\n",
      "C:\\Users\\Sanghyeon Cho\\ANACONDA\\lib\\site-packages\\pyglet\\image\\codecs\\wic.py:289: UserWarning: [WinError -2147417850] 스레드 모드가 설정된 후에는 바꿀 수 없습니다\n",
      "  warnings.warn(str(err))\n"
     ]
    }
   ],
   "source": [
    "resize = T.Compose([T.ToPILImage(),\n",
    "                   T.Resize(40, interpolation=Image.CUBIC),\n",
    "                   T.ToTensor()])\n",
    "\n",
    "def get_cart_location(screen_width):\n",
    "    world_width = env.x_threshold * 2\n",
    "    scale = screen_width / world_width\n",
    "    return int(env.state[0] * scale + screen_width / 2.0)\n",
    "\n",
    "def get_screen():\n",
    "    # gym이 요청한 화면은 400x600x3 이지만 800*1200*3 처럼 큰 경우가 있따.\n",
    "    #이것을 Torch order(CHW)로 변환\n",
    "    screen = env.render(mode='rgb_array').transpose((2,0,1))\n",
    "    _, screen_height, screen_width = screen.shape\n",
    "    screen = screen[: int(screen_height*0.4):int(screen_height * 0.8)]\n",
    "    view_width = int(screen_width * 0.6)\n",
    "    cart_location = get_cart_location(screen_width)\n",
    "    if cart_location < view_width//2:\n",
    "        slice_range = slice(view_width)\n",
    "    elif cart_location > (screen_width - view_width//2):\n",
    "        slice_range = slice(-view_width, None)\n",
    "    else: \n",
    "        slice_range = slice(cart_location - view_width //2,\n",
    "                            cart_location + view_width //2)\n",
    "    # 카트를 중심으로 정사각형 이미지가 되도록 가장자리 제거 \n",
    "    screen = screen[:, :, slice_range]\n",
    "    #float로 변환하고, rescale하고 torch tensor로 변환\n",
    "    screen = np.ascontiguousarray(screen, dtype=np.float32)/256\n",
    "    screen = torch.from_numpy(screen)\n",
    "    \n",
    "    return resize(screen).unsqueeze(0)\n",
    "\n",
    "env.reset()\n",
    "plt.figure()\n",
    "plt.imshow(get_screen().cpu().squeeze(0).permute(1,2,0).numpy(),interpolation='none')\n",
    "plt.title('Example extracted screen')\n",
    "plt.show"
   ]
  },
  {
   "cell_type": "markdown",
   "metadata": {},
   "source": [
    "## 학습 \n",
    "모델과 옵티마이저를 인스턴스화 하고 일부 유틸리티를 정의 \n",
    "\n",
    "- selection_action : Epsilon greedy policy에 딸라 행동을 선택한다. 즉, 가끔 모델을 사용하여 행동을 선택하고 떄로는 단지 하는 균일하게 샘플링 하는것을 의미한다. 임의의 액션을 선택할 확률은 EPS_START에서 EPS_END를 향해 지수적으로 감소할 것이다. EPS_DECAY는 decay 속도를 제어한다.\n",
    "\n",
    "- plot_duration : 지난 100개 에피소드의 평균에 따른 에피소드의 지속을 도표로 그리기 위한 헬퍼이다. 도표는 기본 훈련 루프가 포함된 셑 밑에 있으며, 매 에피소드마다 업데이트 된다.  "
   ]
  },
  {
   "cell_type": "code",
   "execution_count": null,
   "metadata": {},
   "outputs": [],
   "source": [
    "BATCH_SIZE = 128\n",
    "GAMMA = 0.999\n",
    "EPS_START = 0.9\n",
    "EPS_END = 0.05\n",
    "EPS_DECAY = 200\n",
    "TARGET_UPDATE = 10\n",
    "\n",
    "# AI gym에서 반환된 형태를 기반으로 계층을 초기화 하도록 화면의 크기를 가져옴.\n",
    "# 이 시점에 일반적으로 3*40*90에 가까움.\n",
    "# 이 크기는 get_screen()에서 고정. 축소된 렌더 버퍼의 결과임.\n",
    "\n",
    "init_screen = get_screen()\n",
    "_, _, screen_height, screen_width = init_screen.shape\n",
    "\n",
    "# gym 행동공간에서 행동의 숫자를 얻음\n",
    "n_actions = env.action_space.n\n",
    "\n",
    "policy_net = DQN(screen_height, screen_width, n_actions).to(device)\n",
    "target_net = DQN(screen_height, screen_width, n_actions).to(device)\n",
    "target_net.load_state_dict(polict_net.state_dict())\n",
    "target_net.eval()\n",
    "\n",
    "optimizer = optim.RMSprop(policy_net.parameters())\n",
    "memory = ReplayMemory(10000)\n",
    "\n",
    "steps_done = 0\n",
    "\n",
    "def select_action(state):\n",
    "    global steps_done\n",
    "    sample = random.random()\n",
    "    eps_threshold = EPS_END + (EPS_START - EPS_END) *\\math.exp(-1. * steps_done /EPS_DECAY)\n",
    "    steps_done +=1\n",
    "    if smaple > eps_threshold:\n",
    "        with torch.no_grad():\n",
    "            # t.max(1)은 각 행의 가장 큰 열 값을 반환\n",
    "            # 최대 결과의 두번쨰 열은 최대 요소의 주소값이므로,\n",
    "            # 기대보상이 더큰 행동을 선택할수 있음 \n",
    "            return policy_net(state).max(1)[1].view(1,1)\n",
    "    else: \n",
    "        return torch.tensor([[rnadom.randrange(n_actions)]], device=device, dtype=torch.long)\n",
    "    \n",
    "    episode_duration = []\n",
    "    \n",
    "    def plot_duration():\n",
    "        plt.figure(2)\n",
    "        plt.clf()\n",
    "        durations_t = torch.tensor(episode_durations, dtype=torch.float)\n",
    "        plt.title('Training...')\n",
    "        plt.xlabel(\"Episode\")\n",
    "        plt.ylabel('Duration')\n",
    "        plt.plot(durations_t.numpy())\n",
    "        # 100개의 에피소드 평균을 가져와서 도표 그리기\n",
    "        if len(durations_t) >= 100:\n",
    "            means = durations_t.unifold(0,100,1).mean(1).view(-1)\n",
    "            means = torch.cat((torch.zeros(99), means))\n",
    "            plt.plot(means.numpy())\n",
    "            \n",
    "        plt.pause(0.001)\n",
    "        if is_ipython:\n",
    "            display.clear_output(wait=True)\n",
    "            display.display(plt.gcf())\n",
    "            \n",
    "        "
   ]
  },
  {
   "cell_type": "markdown",
   "metadata": {},
   "source": [
    "## 학습루프 \n",
    "최종적으로 모델 학습을 위한 코드 \n",
    "\n",
    "여기서 최적화의 한단계를 수행하는 optimize_model 함수를 찾을수 있다. \n",
    "먼저 배치 하나를 샘플링하고 모든 tensor를 하나로 연결하고  Q(s_t, a_t)와 \n",
    "V(s_t+1) = max_a Q(s_{t+1}, a)를 계산하고 그것들을 손실호 합친다\n",
    "설정한 정의에 따르면 만약 s가 마지막 상태라면 V(s) = 0이다. 또한 안정성을 추가하기 위한 V(s_t+1)계산을 위해 target network를 사용한다.\n",
    "target network는 대부분의 시간동안 가중치가 고정되지만, 가끔 policy network의 가중치로 업데이트 된다.                              "
   ]
  },
  {
   "cell_type": "code",
   "execution_count": null,
   "metadata": {},
   "outputs": [],
   "source": [
    "def optimize_model():\n",
    "    if len(memory) < BATCH_SIZE:\n",
    "        return\n",
    "    transitions = memory.sample(BATCH_SIZE)\n",
    "    # Transpose the batch -> batch-array의 transition을 transition의 batch-array로 변환\n",
    "    batch = Transition(*zip(*transitions))\n",
    "    \n",
    "    # 최종이 아닌 상태의 마스크를 계산하고 배치요소를 연결\n",
    "    non_final_mask = torch.tensor(tuple(map(lambda s: s is not None,\n",
    "                                           batch.next_state)), device=device, dtype=torch.bool)\n",
    "    non_final_next_states = torch.cat([s for s in batch.next_state \n",
    "                                       if s is not None])\n",
    "    state_batch = torch.cat(batch.state)\n",
    "    action_batch = torch.cat(batch.action)\n",
    "    reward_batch = torch.cat(batch.reward)\n",
    "    \n",
    "    #Q(s_t, a)계산 -> 모델이 Q(s_t)를 계산하고 취한행동의 열을 선택\n",
    "    state_action_values = policy_net(state_batch).gather(1, action_batch)\n",
    "    \n",
    "    # 모든 다음 상태를 위한 V(s_{t+1}) 계산\n",
    "    next_state_values = torch.zeros(BATCH_SIZE, device=device)\n",
    "    #non_final_next_states의 행동들에 대한 기대값은 이전 target_net을 기반으로 계산\n",
    "    next_state_values[non_final_mask] = target_net(non_final_next_states).max(1)[0].detach()\n",
    "    # 기대 Q값 계산\n",
    "    expected_state_action_values = (next_state_values * GAMMA) + reward_batch\n",
    "    \n",
    "    #Huber Loss 계산\n",
    "    criterion = nn.SmoothL1Loss()\n",
    "    loss = criterion(state_action_values, expected_state_action_values.unsqueeze(1))\n",
    "    \n",
    "    # 모델 최적화\n",
    "    optimizer.zero_grad()\n",
    "    loss.backward()\n",
    "    for param in policy_net.parameters():\n",
    "        param.grad.data.clamp_(-1,1)\n",
    "    optimizer.step()"
   ]
  },
  {
   "cell_type": "markdown",
   "metadata": {},
   "source": [
    "### 주요 학습 루프 \n",
    "\n",
    "1. 환경 재설정\n",
    "2. 상태 tensor 초기화\n",
    "3.다음 행동 샘플링\n",
    "4.샘플링된 행동 실행 \n",
    "5.다음 화면과 보상(항상 1)을 관찰\n",
    "6.모델 최적화\n",
    "7.에피소드가 끝나면 즉 모델이 실패하면 루프 다시시작\n",
    "\n",
    "아래에선 에피소드의 수가 적지만 의미있는개선을 위해 더 높은수의 에피소드를 실행하는것을 권장한다. "
   ]
  },
  {
   "cell_type": "code",
   "execution_count": null,
   "metadata": {},
   "outputs": [],
   "source": [
    "num_episodes = 50\n",
    "for i_episodes in range(num_episodes):\n",
    "    env.reset()\n",
    "    last_screen = get_screen()\n",
    "    current_screen = get_screen()\n",
    "    state = current_screen - last_screen\n",
    "    for t in count():\n",
    "        #행동 선태과 수행\n",
    "        action = select_action(state)\n",
    "        _, reward, done, _, = env.step(action.item())\n",
    "        reward = torch.tensor([reward], device=device)\n",
    "        \n",
    "        # 새로운 상태 관찰\n",
    "        last_screen = current_screen\n",
    "        current_screen = get_screen()\n",
    "        if not done:\n",
    "            next_state = current_screen = last_screen\n",
    "        else:\n",
    "            next_state = None\n",
    "            \n",
    "        # 메모리에 변이 저장\n",
    "        memory.push(state, action, next_state, reward)\n",
    "        \n",
    "        # 다음 상태로 이동 \n",
    "        state =next_state\n",
    "        \n",
    "        # policy network 에서 최적화 한단계 수행 \n",
    "        optimize_model()\n",
    "        if done: \n",
    "            episode_durations.append(t +1)\n",
    "            plot_durations()\n",
    "            break\n",
    "    # target 네트워크 업데이트 모든 weight, bias 복사 \n",
    "    if i_episode % TRAGET_UPDATE == 0:\n",
    "        target_net.load_state_dict(policy_net.state_dict())\n",
    "        \n",
    "print(\"Complete\")\n",
    "env.render()\n",
    "env.close()\n",
    "plt.ioff()\n",
    "plt.show()"
   ]
  },
  {
   "attachments": {
    "5f603cf6-2c3b-4649-bdb9-88f2b1607ffa.png": {
     "image/png": "[encoded data removed]"
    }
   },
   "cell_type": "markdown",
   "metadata": {},
   "source": [
    "## 전체 결과 데이터 흐름을 보여주는 다이어그램 \n",
    "\n",
    "![image.png](attachment:5f603cf6-2c3b-4649-bdb9-88f2b1607ffa.png)\n",
    "\n",
    "action은 무작위 또는 policy에따라 선택되어 gym 환경에서 다음 단계 샘플을 가져옴\n",
    "결과를 Replay Memory에 저장하고 모든 반복에서 최적화 단계를 실행 \n",
    "최적화는 Replay Memory에서 무작위 배치를 선택해 새 policy를 학습 \n",
    "이전 target_net은 최적화에서 기대 Q값을 계산하는데 사용되고 최신상태 유지를 위해 가끔 업데이트 됨 "
   ]
  },
  {
   "cell_type": "code",
   "execution_count": null,
   "metadata": {},
   "outputs": [],
   "source": []
  }
 ],
 "metadata": {
  "kernelspec": {
   "display_name": "Python 3",
   "language": "python",
   "name": "python3"
  },
  "language_info": {
   "codemirror_mode": {
    "name": "ipython",
    "version": 3
   },
   "file_extension": ".py",
   "mimetype": "text/x-python",
   "name": "python",
   "nbconvert_exporter": "python",
   "pygments_lexer": "ipython3",
   "version": "3.8.5"
  }
 },
 "nbformat": 4,
 "nbformat_minor": 4
}
