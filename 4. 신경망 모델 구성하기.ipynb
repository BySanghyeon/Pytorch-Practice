{
 "cells": [
  {
   "cell_type": "markdown",
   "metadata": {},
   "source": [
    "# 신경망 모델 구성하기 \n",
    "\n",
    "신경망은 데이터 연산을 수행하는 layer/module로 구성 \n",
    "torch.nn은 신경망을 구성하는데 필요한 모든 구성요소를 제공 \n",
    "PyTorch의 모든 모듈은 nn.Module릐 하위 클래스임 \n",
    "신경망은 다른 모듈로 구성된 모듈"
   ]
  },
  {
   "cell_type": "markdown",
   "metadata": {},
   "source": [
    "## FashionMNIST 데이터를 이용한 이미지 분류 신경망 구성"
   ]
  },
  {
   "cell_type": "code",
   "execution_count": 1,
   "metadata": {},
   "outputs": [],
   "source": [
    "import os\n",
    "import torch\n",
    "from torch import nn \n",
    "from torch.utils.data import DataLoader\n",
    "from torchvision import datasets, transforms"
   ]
  },
  {
   "cell_type": "code",
   "execution_count": 2,
   "metadata": {},
   "outputs": [
    {
     "name": "stdout",
     "output_type": "stream",
     "text": [
      "Using cpu device\n"
     ]
    }
   ],
   "source": [
    "device = 'cuda' if torch.cuda.is_available() else 'cpu'\n",
    "print(f'Using {device} device')"
   ]
  },
  {
   "cell_type": "markdown",
   "metadata": {},
   "source": [
    "### 클래스 정의하기\n",
    "\n",
    "nn.Module의 하위클래스 정의 \n",
    "_ _ init _ _ 에서 신경망 계층 초기화\n",
    "nn.Module을 상속받은 모든 클래스는 forward 메소드에 입력 데이터에 대한 연산 구현\n"
   ]
  },
  {
   "cell_type": "code",
   "execution_count": 7,
   "metadata": {},
   "outputs": [],
   "source": [
    "class NeuralNetwork(nn.Module):\n",
    "    def __init__(self):\n",
    "        super(NeuralNetwork, self).__init__()\n",
    "        self.flatten = nn.Flatten()\n",
    "        self.linear_relu_stack = nn.Sequential(\n",
    "        nn.Linear(28*28, 512),\n",
    "        nn.ReLU(),\n",
    "        nn.Linear(512,512),\n",
    "        nn.ReLU(),\n",
    "        nn.Linear(512,10),\n",
    "        )\n",
    "        \n",
    "    def forward(self, x):\n",
    "        x = self.flatten(x)\n",
    "        logits = self.linear_relu_stack(x)\n",
    "        return logits"
   ]
  },
  {
   "cell_type": "code",
   "execution_count": 8,
   "metadata": {},
   "outputs": [
    {
     "name": "stdout",
     "output_type": "stream",
     "text": [
      "NeuralNetwork(\n",
      "  (flatten): Flatten(start_dim=1, end_dim=-1)\n",
      "  (linear_relu_stack): Sequential(\n",
      "    (0): Linear(in_features=784, out_features=512, bias=True)\n",
      "    (1): ReLU()\n",
      "    (2): Linear(in_features=512, out_features=512, bias=True)\n",
      "    (3): ReLU()\n",
      "    (4): Linear(in_features=512, out_features=10, bias=True)\n",
      "  )\n",
      ")\n"
     ]
    }
   ],
   "source": [
    "model = NeuralNetwork().to(device)\n",
    "print(model)"
   ]
  },
  {
   "cell_type": "code",
   "execution_count": 11,
   "metadata": {},
   "outputs": [
    {
     "name": "stdout",
     "output_type": "stream",
     "text": [
      "Predicted class: tensor([0])\n"
     ]
    }
   ],
   "source": [
    "X = torch.rand(1, 28, 28, device=device)\n",
    "logits = model(X)\n",
    "pred_probab = nn.Softmax(dim=1)(logits)\n",
    "y_pred = pred_probab.argmax(1)\n",
    "print(f'Predicted class: {y_pred}')"
   ]
  },
  {
   "cell_type": "markdown",
   "metadata": {},
   "source": [
    "### 모델 계층(Layer)"
   ]
  },
  {
   "cell_type": "code",
   "execution_count": 12,
   "metadata": {},
   "outputs": [
    {
     "name": "stdout",
     "output_type": "stream",
     "text": [
      "torch.Size([3, 28, 28])\n"
     ]
    }
   ],
   "source": [
    "input_image = torch.rand(3,28,28)\n",
    "print(input_image.size())"
   ]
  },
  {
   "cell_type": "markdown",
   "metadata": {},
   "source": [
    "#### nn.Flatten"
   ]
  },
  {
   "cell_type": "code",
   "execution_count": 13,
   "metadata": {},
   "outputs": [
    {
     "name": "stdout",
     "output_type": "stream",
     "text": [
      "torch.Size([3, 784])\n"
     ]
    }
   ],
   "source": [
    "flatten = nn.Flatten()\n",
    "flat_image = flatten(input_image)\n",
    "print(flat_image.size())"
   ]
  },
  {
   "cell_type": "markdown",
   "metadata": {},
   "source": [
    "#### nn.Linear"
   ]
  },
  {
   "cell_type": "code",
   "execution_count": 14,
   "metadata": {},
   "outputs": [
    {
     "name": "stdout",
     "output_type": "stream",
     "text": [
      "torch.Size([3, 20])\n"
     ]
    }
   ],
   "source": [
    "layer1 = nn.Linear(in_features=28*28, out_features=20)\n",
    "hidden1 = layer1(flat_image)\n",
    "print(hidden1.size())"
   ]
  },
  {
   "cell_type": "markdown",
   "metadata": {},
   "source": [
    "#### nn.ReLU"
   ]
  },
  {
   "cell_type": "code",
   "execution_count": 15,
   "metadata": {},
   "outputs": [
    {
     "name": "stdout",
     "output_type": "stream",
     "text": [
      "Before ReLU: tensor([[-0.4611,  0.2076,  0.0283,  0.3627,  0.1211,  0.3320, -0.5060,  0.0368,\n",
      "          0.2703,  0.0458, -0.0092, -0.3316, -0.3614,  0.5709,  0.4484, -0.2965,\n",
      "          0.4407,  0.0771, -0.0154,  0.0765],\n",
      "        [-0.1391,  0.2437,  0.2972,  0.3329,  0.0672,  0.2467, -0.7685, -0.6131,\n",
      "         -0.0096,  0.4741, -0.1831, -0.6739, -0.0425,  0.5460,  0.0983, -0.2350,\n",
      "          0.1905,  0.0655, -0.4400, -0.3596],\n",
      "        [-0.3925,  0.4616,  0.0277,  0.3376,  0.0447, -0.1159, -0.8630, -0.1513,\n",
      "         -0.1134,  0.3249, -0.1438, -0.6623,  0.1201,  0.8437,  0.2458, -0.0219,\n",
      "          0.4586,  0.3298, -0.3228,  0.2676]], grad_fn=<AddmmBackward0>)\n",
      "\n",
      "\n",
      "After ReLU: tensor([[0.0000, 0.2076, 0.0283, 0.3627, 0.1211, 0.3320, 0.0000, 0.0368, 0.2703,\n",
      "         0.0458, 0.0000, 0.0000, 0.0000, 0.5709, 0.4484, 0.0000, 0.4407, 0.0771,\n",
      "         0.0000, 0.0765],\n",
      "        [0.0000, 0.2437, 0.2972, 0.3329, 0.0672, 0.2467, 0.0000, 0.0000, 0.0000,\n",
      "         0.4741, 0.0000, 0.0000, 0.0000, 0.5460, 0.0983, 0.0000, 0.1905, 0.0655,\n",
      "         0.0000, 0.0000],\n",
      "        [0.0000, 0.4616, 0.0277, 0.3376, 0.0447, 0.0000, 0.0000, 0.0000, 0.0000,\n",
      "         0.3249, 0.0000, 0.0000, 0.1201, 0.8437, 0.2458, 0.0000, 0.4586, 0.3298,\n",
      "         0.0000, 0.2676]], grad_fn=<ReluBackward0>)\n"
     ]
    }
   ],
   "source": [
    "print(f'Before ReLU: {hidden1}\\n\\n')\n",
    "hidden1 = nn.ReLU()(hidden1)\n",
    "print(f\"After ReLU: {hidden1}\")"
   ]
  },
  {
   "cell_type": "markdown",
   "metadata": {},
   "source": [
    "#### nn.Softmax"
   ]
  },
  {
   "cell_type": "code",
   "execution_count": 16,
   "metadata": {},
   "outputs": [],
   "source": [
    "softmax = nn.Softmax(dim=1)\n",
    "pred_probab = softmax(logits)"
   ]
  },
  {
   "cell_type": "markdown",
   "metadata": {},
   "source": [
    "### 모델 매개변수 "
   ]
  },
  {
   "cell_type": "code",
   "execution_count": 18,
   "metadata": {},
   "outputs": [
    {
     "name": "stdout",
     "output_type": "stream",
     "text": [
      "Model structure:  NeuralNetwork(\n",
      "  (flatten): Flatten(start_dim=1, end_dim=-1)\n",
      "  (linear_relu_stack): Sequential(\n",
      "    (0): Linear(in_features=784, out_features=512, bias=True)\n",
      "    (1): ReLU()\n",
      "    (2): Linear(in_features=512, out_features=512, bias=True)\n",
      "    (3): ReLU()\n",
      "    (4): Linear(in_features=512, out_features=10, bias=True)\n",
      "  )\n",
      ") \n",
      "\n",
      "\n",
      "Layer: linear_relu_stack.0.weight | Size: torch.Size([512, 784]) | Values: tensor([[-0.0034, -0.0174, -0.0138,  ..., -0.0038, -0.0218,  0.0279],\n",
      "        [ 0.0307, -0.0239, -0.0262,  ...,  0.0312,  0.0252, -0.0091]],\n",
      "       grad_fn=<SliceBackward0>)\n",
      " \n",
      "Layer: linear_relu_stack.0.bias | Size: torch.Size([512]) | Values: tensor([ 0.0298, -0.0264], grad_fn=<SliceBackward0>)\n",
      " \n",
      "Layer: linear_relu_stack.2.weight | Size: torch.Size([512, 512]) | Values: tensor([[-0.0292,  0.0078, -0.0185,  ...,  0.0283, -0.0081, -0.0246],\n",
      "        [-0.0199, -0.0137, -0.0053,  ...,  0.0194,  0.0260,  0.0102]],\n",
      "       grad_fn=<SliceBackward0>)\n",
      " \n",
      "Layer: linear_relu_stack.2.bias | Size: torch.Size([512]) | Values: tensor([0.0044, 0.0220], grad_fn=<SliceBackward0>)\n",
      " \n",
      "Layer: linear_relu_stack.4.weight | Size: torch.Size([10, 512]) | Values: tensor([[ 0.0018,  0.0326,  0.0190,  ..., -0.0025,  0.0300,  0.0172],\n",
      "        [-0.0405,  0.0028,  0.0102,  ...,  0.0108, -0.0301, -0.0030]],\n",
      "       grad_fn=<SliceBackward0>)\n",
      " \n",
      "Layer: linear_relu_stack.4.bias | Size: torch.Size([10]) | Values: tensor([0.0316, 0.0209], grad_fn=<SliceBackward0>)\n",
      " \n"
     ]
    }
   ],
   "source": [
    "print(\"Model structure: \",model, \"\\n\\n\")\n",
    "\n",
    "for name, param in model.named_parameters():\n",
    "    print(f'Layer: {name} | Size: {param.size()} | Values: {param[:2]}\\n ')"
   ]
  },
  {
   "cell_type": "code",
   "execution_count": null,
   "metadata": {},
   "outputs": [],
   "source": []
  }
 ],
 "metadata": {
  "kernelspec": {
   "display_name": "Python 3",
   "language": "python",
   "name": "python3"
  },
  "language_info": {
   "codemirror_mode": {
    "name": "ipython",
    "version": 3
   },
   "file_extension": ".py",
   "mimetype": "text/x-python",
   "name": "python",
   "nbconvert_exporter": "python",
   "pygments_lexer": "ipython3",
   "version": "3.8.5"
  }
 },
 "nbformat": 4,
 "nbformat_minor": 4
}
