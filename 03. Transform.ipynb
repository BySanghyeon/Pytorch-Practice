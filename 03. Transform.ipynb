{
 "cells": [
  {
   "cell_type": "markdown",
   "metadata": {},
   "source": [
    "# Transform"
   ]
  },
  {
   "cell_type": "markdown",
   "metadata": {},
   "source": [
    "데이터가 항상 학습에 필요한 상태로 주어지지 않기 떄문에 transform을 통해 데이터를 조작하고 학습에 적합하게 만들어야 함\n",
    "\n",
    "모든 torchvision 데이터셋은 변형로직을 가지고, 호출가능한 객체를 받는 두개의 매개변수인 feature와 label을 위해 각각 transform과 target_transform을 가짐.\n",
    "\n",
    "FashionMNIST 데이터셋의 feature는 PIL image 형식이고, label은 integer임\n",
    "\n",
    "학습을 위해\n",
    "\n",
    "    - feature는 \"ToTensor\"로 정규화(normalization)된 텐서의 형태로 변형\n",
    "    - label은 \"Lambda\"로 one-hot encoding 된 텐서의 형태로 변형"
   ]
  },
  {
   "cell_type": "code",
   "execution_count": 2,
   "metadata": {},
   "outputs": [],
   "source": [
    "import torch\n",
    "from torchvision import datasets\n",
    "from torchvision.transforms import ToTensor, Lambda\n",
    "\n",
    "ds = datasets.FashionMNIST(\n",
    "root=\"data\",\n",
    "train=True,\n",
    "download=True,\n",
    "transform=ToTensor(),\n",
    "target_transform=Lambda(lambda y: torch.zeros(10,dtype=torch.float).scatter_(0,\n",
    "torch.tensor(y),value=1))\n",
    ")"
   ]
  },
  {
   "cell_type": "markdown",
   "metadata": {},
   "source": [
    "## Lambda Transform\n",
    "\n",
    "사용자 정의 함수 lambda를 이용하여 one-hot인코딩 수행.\n",
    "이 함수는 데이터셋의 라벨 개수인 10자리 영 텐서(zero tensor)를 만들고 scatter_를 호출하영 주어진 라벨 y엥 해당하는 인덱스에 1을 할당"
   ]
  },
  {
   "cell_type": "code",
   "execution_count": 3,
   "metadata": {},
   "outputs": [],
   "source": [
    "target_transform=Lambda(lambda y: torch.zeros(10,dtype=torch.float).scatter_(0,\n",
    "torch.tensor(y),value=1))"
   ]
  },
  {
   "cell_type": "code",
   "execution_count": null,
   "metadata": {},
   "outputs": [],
   "source": []
  }
 ],
 "metadata": {
  "kernelspec": {
   "display_name": "Python 3",
   "language": "python",
   "name": "python3"
  },
  "language_info": {
   "codemirror_mode": {
    "name": "ipython",
    "version": 3
   },
   "file_extension": ".py",
   "mimetype": "text/x-python",
   "name": "python",
   "nbconvert_exporter": "python",
   "pygments_lexer": "ipython3",
   "version": "3.8.5"
  }
 },
 "nbformat": 4,
 "nbformat_minor": 4
}
